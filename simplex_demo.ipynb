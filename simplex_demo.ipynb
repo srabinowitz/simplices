{
 "cells": [
  {
   "cell_type": "markdown",
   "metadata": {},
   "source": [
    "## Simplex Demo\n",
    "Demonstration of the `SimplicialComplex` class defined in simplices.py. <br>\n",
    "(c) Samuel Rabinowitz, 2020"
   ]
  },
  {
   "cell_type": "code",
   "execution_count": 1,
   "metadata": {},
   "outputs": [],
   "source": [
    "from simplices import *"
   ]
  },
  {
   "cell_type": "markdown",
   "metadata": {},
   "source": [
    "Define a `SimplicialComplex` `sc`, add a few simplices, and print the simplex set. Note that if we add simplex $ABC$, lower order simplices $A, B, C, AB, AC, BC$ are automatically added as well"
   ]
  },
  {
   "cell_type": "code",
   "execution_count": 2,
   "metadata": {},
   "outputs": [
    {
     "name": "stdout",
     "output_type": "stream",
     "text": [
      "{A, B, C, D, AC, DC, AB, DB, BC, DA, ABC}\n"
     ]
    }
   ],
   "source": [
    "sc = SimplicialComplex()\n",
    "\n",
    "# note: we can use any type of iterables here since add_simplices\n",
    "# will automatically convert our data to simplex types\n",
    "simplices = [[\"A\", \"B\", \"C\"], [\"A\", \"D\"], [\"B\", \"D\"], [\"C\", \"D\"]]\n",
    "\n",
    "sc.add_simplices(simplices)\n",
    "print(sc)"
   ]
  },
  {
   "cell_type": "markdown",
   "metadata": {},
   "source": [
    "Compute chain groups of orders $k = 0, 1, 2$."
   ]
  },
  {
   "cell_type": "code",
   "execution_count": 3,
   "metadata": {},
   "outputs": [
    {
     "name": "stdout",
     "output_type": "stream",
     "text": [
      "{B + C, A + D, A + C + D, A + B + C + D, B, A + B, B + D, A, C, A + C, C + D, ∅, D, A + B + C, B + C + D, A + B + D}\n",
      "\n",
      "{AC + DC + BC, AC + DB + BC, AC + DC + AB + DB + BC, AC + DA + BC + AB, DC + DA, DB + DA, DA + AB, DB + DC + BC, AC, AC + DB + DC + BC, AC + DB + DC + DA, DB, DC, AC + BC + AB, AC + DA, AC + DB + DC, AC + DC + AB, AC + DB + AB, DB + DC + BC + AB, AC + DC + AB + BC + DA, AC + AB + DB + BC + DA, DB + DC + DA + AB, AC + DC + AB + DB + BC + DA, DB + DC + AB, DA + BC, BC, AC + AB, AC + DA + BC, AC + DB, AC + DC, AC + DB + DC + AB, DC + DA + BC + AB, DB + DA + BC + AB, AC + DC + BC + AB, AC + DB + BC + AB, AC + DC + AB + DB + DA, DB + DC, DA + BC + AB, DC + AB, DB + AB, DC + BC, DB + BC, AC + DC + DA + BC, AC + DB + DA + BC, ∅, AC + DC + DB + BC + DA, DA, AC + DC + DA + AB, AC + DB + DA + AB, DC + AB + DB + BC + DA, DC + DA + BC, DB + DA + BC, DC + DA + AB, BC + AB, DB + DC + DA, DB + DA + AB, DC + BC + AB, AC + DB + DA, DB + BC + AB, DB + DC + DA + BC, AC + DC + DA, AC + BC, AC + DA + AB, AB}\n",
      "\n",
      "{ABC, ∅}\n"
     ]
    }
   ],
   "source": [
    "print(sc.C_k(0))\n",
    "print(\"\")\n",
    "print(sc.C_k(1))\n",
    "print(\"\")\n",
    "print(sc.C_k(2))"
   ]
  },
  {
   "cell_type": "markdown",
   "metadata": {},
   "source": [
    "Compute cycle groups of orders $k = 0, 1, 2$."
   ]
  },
  {
   "cell_type": "code",
   "execution_count": 4,
   "metadata": {},
   "outputs": [
    {
     "name": "stdout",
     "output_type": "stream",
     "text": [
      "{B + C, A + C + D, A + B + C + D, B, A + B, B + D, D, A, C, A + C, C + D, ∅, A + D, A + B + C, B + C + D, A + B + D}\n",
      "\n",
      "{AC + DB + DC + AB, DC + DA + BC + AB, DB + DA + AB, DB + DC + BC, AC + DB + DA + BC, ∅, AC + DC + DA, AC + BC + AB}\n",
      "\n",
      "{∅}\n"
     ]
    }
   ],
   "source": [
    "print(sc.Z_k(0))\n",
    "print(\"\")\n",
    "print(sc.Z_k(1))\n",
    "print(\"\")\n",
    "print(sc.Z_k(2))"
   ]
  },
  {
   "cell_type": "markdown",
   "metadata": {},
   "source": [
    "Compute boundary groups of orders $k = 0, 1, 2$."
   ]
  },
  {
   "cell_type": "code",
   "execution_count": 5,
   "metadata": {},
   "outputs": [
    {
     "name": "stdout",
     "output_type": "stream",
     "text": [
      "{B + C, A + B + C + D, A + B, B + D, A + C, C + D, ∅, A + D}\n",
      "\n",
      "{AC + BC + AB, ∅}\n",
      "\n",
      "{∅}\n"
     ]
    }
   ],
   "source": [
    "print(sc.B_k(0))\n",
    "print(\"\")\n",
    "print(sc.B_k(1))\n",
    "print(\"\")\n",
    "print(sc.B_k(2))"
   ]
  },
  {
   "cell_type": "markdown",
   "metadata": {},
   "source": [
    "Compute homology groups of orders $k = 0, 1, 2$."
   ]
  },
  {
   "cell_type": "code",
   "execution_count": 6,
   "metadata": {},
   "outputs": [
    {
     "name": "stdout",
     "output_type": "stream",
     "text": [
      "{B + C, A + C + D}\n",
      "\n",
      "{AC + DB + DC + AB, DC + DA + BC + AB, DB + DA + AB, ∅}\n",
      "\n",
      "{∅}\n"
     ]
    }
   ],
   "source": [
    "print(sc.H_k(0))\n",
    "print(\"\")\n",
    "print(sc.H_k(1))\n",
    "print(\"\")\n",
    "print(sc.H_k(2))"
   ]
  },
  {
   "cell_type": "markdown",
   "metadata": {},
   "source": [
    "Compute Betti Numbers of orders $k = 0, 1, 2$."
   ]
  },
  {
   "cell_type": "code",
   "execution_count": 7,
   "metadata": {},
   "outputs": [
    {
     "name": "stdout",
     "output_type": "stream",
     "text": [
      "1\n",
      "2\n",
      "0\n"
     ]
    }
   ],
   "source": [
    "print(sc.beta_k(0))\n",
    "print(sc.beta_k(1))\n",
    "print(sc.beta_k(2))"
   ]
  }
 ],
 "metadata": {
  "kernelspec": {
   "display_name": "Python 3",
   "language": "python",
   "name": "python3"
  },
  "language_info": {
   "codemirror_mode": {
    "name": "ipython",
    "version": 3
   },
   "file_extension": ".py",
   "mimetype": "text/x-python",
   "name": "python",
   "nbconvert_exporter": "python",
   "pygments_lexer": "ipython3",
   "version": "3.7.1"
  }
 },
 "nbformat": 4,
 "nbformat_minor": 2
}
